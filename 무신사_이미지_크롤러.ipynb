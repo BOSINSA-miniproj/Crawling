{
  "nbformat": 4,
  "nbformat_minor": 0,
  "metadata": {
    "colab": {
      "provenance": []
    },
    "kernelspec": {
      "name": "python3",
      "display_name": "Python 3"
    },
    "language_info": {
      "name": "python"
    }
  },
  "cells": [
    {
      "cell_type": "markdown",
      "source": [
        "https://velog.io/@kite_day/colab-%EC%97%90%EC%84%9C-%EC%9B%B9-%ED%81%AC%EB%A1%A4%EB%A7%81%ED%95%98%EA%B8%B0-selenium\n",
        "\n",
        "코드 참고했습니다"
      ],
      "metadata": {
        "id": "zgAiSaEocABj"
      }
    },
    {
      "cell_type": "code",
      "source": [
        "from google.colab import drive\n",
        "drive.mount('/content/drive')"
      ],
      "metadata": {
        "id": "YntbA-bJbJnn"
      },
      "execution_count": null,
      "outputs": []
    },
    {
      "cell_type": "code",
      "source": [
        "!pip install selenium\n",
        "!apt-get update\n",
        "!apt install chromium-chromedriver\n",
        "# !cp /usr/lib/chromium-browser/chromedriver '/content/drive/MyDrive/Boaz/미니플젝2' # (최초 1회)\n",
        "!pip install chromedriver-autoinstaller"
      ],
      "metadata": {
        "id": "bbuweYVCbJbX"
      },
      "execution_count": null,
      "outputs": []
    },
    {
      "cell_type": "code",
      "source": [
        "from selenium import webdriver\n",
        "from selenium.webdriver.support.ui import WebDriverWait\n",
        "from selenium.webdriver.support import expected_conditions as EC\n",
        "from selenium.webdriver.common.by import By\n",
        "import sys\n",
        "from selenium.webdriver.common.keys import Keys\n",
        "import requests\n",
        "import os\n",
        "\n",
        "import time\n",
        "import chromedriver_autoinstaller"
      ],
      "metadata": {
        "id": "f4LEZz_XbPav"
      },
      "execution_count": null,
      "outputs": []
    },
    {
      "cell_type": "code",
      "source": [
        "chrome_path = \"/content/drive/MyDrive/Boaz/미니플젝2/chromedriver\""
      ],
      "metadata": {
        "id": "uYFlz9HcblMA"
      },
      "execution_count": null,
      "outputs": []
    },
    {
      "cell_type": "code",
      "source": [
        "sys.path.insert(0,chrome_path)\n",
        "chrome_options = webdriver.ChromeOptions()\n",
        "chrome_options.add_argument('--headless') # ensure GUI is off : cloab은 새창을 지원하지않기 때문에 창 없는 모드\n",
        "chrome_options.add_argument('--no-sandbox')\n",
        "chrome_options.add_argument('--disable-dev-shm-usage')  # set path to chromedriver as per your configuration\n",
        "chrome_options.add_argument('lang=ko_KR') # 한국어\n",
        "\n",
        "chromedriver_autoinstaller.install()  # set the target URL"
      ],
      "metadata": {
        "id": "OCH4ZEBfblkQ"
      },
      "execution_count": null,
      "outputs": []
    },
    {
      "cell_type": "code",
      "execution_count": null,
      "metadata": {
        "id": "XlsZ_amNbDzJ"
      },
      "outputs": [],
      "source": [
        "### 1. 드라이브 마운트 및 패키지 설치는 생략 (기존 코드 참고)\n",
        "\n",
        "### 2. selenium_scroll_option 함수 정의 및 이미지 수집\n",
        "def selenium_scroll_option_and_collect_images(driver, save_folder, pause_time=2):\n",
        "    last_height = driver.execute_script(\"return document.body.scrollHeight\")\n",
        "    scroll_attempts = 0  # 스크롤 시도 횟수\n",
        "    max_attempts = 10  # 최대 시도 횟수 설정\n",
        "    img_urls_collected = set()  # 수집한 이미지 URL을 중복 없이 저장\n",
        "\n",
        "    while scroll_attempts < max_attempts:\n",
        "        # 끝까지 스크롤 다운\n",
        "        driver.execute_script(\"window.scrollTo(0, document.body.scrollHeight);\")\n",
        "\n",
        "        # 대기 시간 설정\n",
        "        time.sleep(pause_time)\n",
        "\n",
        "        # 이미지 요소 찾기\n",
        "        images = driver.find_elements(By.CSS_SELECTOR, \"img\")\n",
        "        for i, img in enumerate(images):\n",
        "            try:\n",
        "                img_url = img.get_attribute('src')\n",
        "                if img_url and 'http' in img_url and img_url not in img_urls_collected:\n",
        "                    img_urls_collected.add(img_url)\n",
        "                    # 이미지 저장\n",
        "                    img_data = requests.get(img_url).content\n",
        "                    img_index = len(img_urls_collected)  # 고유한 인덱스를 사용\n",
        "                    with open(f\"{save_folder}/F_white_{img_index}.jpg\", 'wb') as img_file:\n",
        "                        img_file.write(img_data)\n",
        "            except Exception as e:\n",
        "                print(f\"이미지 저장 중 오류 발생: {e}\")\n",
        "\n",
        "        # 스크롤 후 스크롤 높이 다시 가져옴\n",
        "        new_height = driver.execute_script(\"return document.body.scrollHeight\")\n",
        "        if new_height == last_height:\n",
        "            scroll_attempts += 1  # 동일한 높이가 여러 번 감지되면 반복 종료 조건 증가\n",
        "            if scroll_attempts >= max_attempts:\n",
        "                print(\"더 이상 새로운 콘텐츠가 로드되지 않습니다.\")\n",
        "                break\n",
        "        else:\n",
        "            scroll_attempts = 0  # 스크롤 높이가 변경되면 시도 횟수 초기화\n",
        "        last_height = new_height\n",
        "\n",
        "    return img_urls_collected\n",
        "\n",
        "### 3. 이미지 크롤링\n",
        "# 드라이버 시작 및 URL 로드\n",
        "driver = webdriver.Chrome(options=chrome_options)\n",
        "url = \"https://www.musinsa.com/category/001?gf=F&color=1\"\n",
        "driver.get(url)\n",
        "\n",
        "# 이미지 저장 폴더 설정\n",
        "save_folder = \"/content/drive/MyDrive/Boaz/미니플젝2/F_white\"  # 원하는 경로로 설정\n",
        "os.makedirs(save_folder, exist_ok=True)\n",
        "\n",
        "# 스크롤하면서 이미지 수집 및 저장\n",
        "collected_img_urls = selenium_scroll_option_and_collect_images(driver, save_folder)\n",
        "\n",
        "# 수집된 이미지 개수 출력\n",
        "print(\"수집된 이미지 URL 개수:\", len(collected_img_urls))\n",
        "\n",
        "# 드라이버 종료\n",
        "driver.quit()\n"
      ]
    }
  ]
}